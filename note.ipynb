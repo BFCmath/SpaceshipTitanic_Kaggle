{
 "cells": [
  {
   "cell_type": "markdown",
   "metadata": {},
   "source": [
    "# new plot\n",
    "+ sns.violinplot (good for numerical/classification - can see clearly the distribution)\n",
    "+ sns.countplot (good for category/classification - can see clearly the distribution)\n",
    "+ sns.histplot (good for classification - can group the data easily when using  multiple=\"dodge\")\n",
    "\n",
    "# new encoder\n",
    "+ log1p is decent for money/ numerical >=0 \n",
    "+ outperform others when there are many 0s in the cols \n"
   ]
  }
 ],
 "metadata": {
  "language_info": {
   "name": "python"
  }
 },
 "nbformat": 4,
 "nbformat_minor": 2
}
