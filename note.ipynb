{
 "cells": [
  {
   "cell_type": "markdown",
   "metadata": {},
   "source": [
    "# new plot\n",
    "+ sns.violinplot (good for numerical/classification - can see clearly the distribution)\n",
    "+ sns.countplot (good for category/classification - can see clearly the distribution)\n",
    "+ sns.histplot (good for classification - can group the data easily when using  multiple=\"dodge\")\n",
    "\n",
    "# new encoder\n",
    "+ log1p is decent for money/ numerical >=0 \n",
    "+ outperform others when there are many 0s in the cols \n"
   ]
  },
  {
   "cell_type": "markdown",
   "metadata": {
    "vscode": {
     "languageId": "plaintext"
    }
   },
   "source": [
    "# Steps\n",
    "+ EDA (visualization)\n",
    "+ Feature engineering (extract/drop)\n",
    "+ Missing values\n",
    "+ Preprocessing\n",
    "+ Model selection\n",
    "+ Modelling\n",
    "+ Submission"
   ]
  },
  {
   "cell_type": "markdown",
   "metadata": {
    "vscode": {
     "languageId": "plaintext"
    }
   },
   "source": [
    "## feature engineering \n",
    "this step can involve in eda also, and a trick to handle null (before the missing values step) is just fill it with random label, and then fill it agian with nan later \n"
   ]
  },
  {
   "cell_type": "markdown",
   "metadata": {},
   "source": [
    "## Missing values \n",
    "instead of simply using means/ median or mode  \n",
    "we can use the joint distribution by using the *groupby* function\n",
    "```python\n",
    "data.groupby(['Group','HomePlanet'])['HomePlanet'].size().unstack().fillna(0)\n",
    "```\n",
    "\n",
    "good only for category/category (or binary)"
   ]
  },
  {
   "cell_type": "markdown",
   "metadata": {
    "vscode": {
     "languageId": "plaintext"
    }
   },
   "source": [
    "## Preprocessing\n",
    "+ Drop unwanted features\n",
    "+ log transform\n",
    "+ Encoding and scaling\n",
    "+ Dimension reduction (PCA, extra trêe)\n",
    "\n",
    "for PCA:  \n",
    "```python \n",
    "pca = PCA().fit(X)\n",
    "fig, ax = plt.subplots(figsize=(10,4))\n",
    "xi = np.arange(1, 1+X.shape[1], step=1)\n",
    "yi = np.cumsum(pca.explained_variance_ratio_)\n",
    "plt.plot(xi, yi, marker='o', linestyle='--', color='b')\n",
    "\n",
    "# Aesthetics\n",
    "plt.ylim(0.0,1.1)\n",
    "plt.xlabel('Number of Components')\n",
    "plt.xticks(np.arange(1, 1+X.shape[1], step=2))\n",
    "plt.ylabel('Cumulative variance (%)')\n",
    "plt.title('Explained variance by each component')\n",
    "plt.axhline(y=1, color='r', linestyle='-')\n",
    "plt.text(0.5, 0.85, '100% cut-off threshold', color = 'red')\n",
    "ax.grid(axis='x')\n",
    "```\n"
   ]
  }
 ],
 "metadata": {
  "language_info": {
   "name": "python"
  }
 },
 "nbformat": 4,
 "nbformat_minor": 2
}
